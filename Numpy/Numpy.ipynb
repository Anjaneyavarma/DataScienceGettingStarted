{
 "cells": [
  {
   "cell_type": "markdown",
   "id": "d77a5d84",
   "metadata": {},
   "source": [
    "## Import numpy dependency"
   ]
  },
  {
   "cell_type": "code",
   "execution_count": 1,
   "id": "0feba9fa",
   "metadata": {},
   "outputs": [],
   "source": [
    "import numpy as np"
   ]
  },
  {
   "cell_type": "markdown",
   "id": "048b2709",
   "metadata": {},
   "source": [
    "## 1D Array"
   ]
  },
  {
   "cell_type": "code",
   "execution_count": 2,
   "id": "3d9b1bee",
   "metadata": {},
   "outputs": [
    {
     "data": {
      "text/plain": [
       "array([1, 2, 3, 4, 5])"
      ]
     },
     "execution_count": 2,
     "metadata": {},
     "output_type": "execute_result"
    }
   ],
   "source": [
    "a = np.array([1,2,3,4,5]); a"
   ]
  },
  {
   "cell_type": "markdown",
   "id": "a1f3b9fd",
   "metadata": {},
   "source": [
    "## MuiltiDimensional Array"
   ]
  },
  {
   "cell_type": "code",
   "execution_count": 3,
   "id": "e9f3dc3d",
   "metadata": {},
   "outputs": [
    {
     "data": {
      "text/plain": [
       "array([[ 1,  2,  3,  4],\n",
       "       [ 5,  6,  7,  8],\n",
       "       [ 9, 10, 11, 12]])"
      ]
     },
     "execution_count": 3,
     "metadata": {},
     "output_type": "execute_result"
    }
   ],
   "source": [
    "b = np.array([[1,2,3,4],\n",
    "             [5,6,7,8],\n",
    "             [9,10,11,12]]); b"
   ]
  },
  {
   "cell_type": "markdown",
   "id": "4e3434db",
   "metadata": {},
   "source": [
    "## Basic Array creation"
   ]
  },
  {
   "cell_type": "code",
   "execution_count": 4,
   "id": "adeac4d9",
   "metadata": {},
   "outputs": [
    {
     "name": "stdout",
     "output_type": "stream",
     "text": [
      "[[[0. 0.]\n",
      "  [0. 0.]]\n",
      "\n",
      " [[0. 0.]\n",
      "  [0. 0.]]]\n",
      "[1. 1.]\n",
      "[-2.00000000e+000  2.31584193e+077 -2.00000000e+000  2.78134368e-309]\n",
      "[[7 7]\n",
      " [7 7]]\n",
      "[0 1 2 3]\n",
      "[4 5 6 7]\n",
      "[ 1.  4.  7. 10.]\n"
     ]
    }
   ],
   "source": [
    "#create an array with zeros:\n",
    "c = np.zeros((2,2,2));print(c)\n",
    "\n",
    "#create an array with ones:\n",
    "d = np.ones(2); print(d)\n",
    "\n",
    "#create an empty array of 4:\n",
    "x = np.empty(4); print(x)\n",
    "\n",
    "# create a full array\n",
    "z = np.full((2,2), 7); print(z)\n",
    "\n",
    "#aranage of an array of length 4:\n",
    "y = np.arange(4);print(y)\n",
    "z = np.arange(4,8,1); print(z)\n",
    "\n",
    "#Using linspace\n",
    "p = np.linspace(1,10, num=4);print(p)"
   ]
  },
  {
   "cell_type": "markdown",
   "id": "1ea2b1fb",
   "metadata": {},
   "source": [
    "## Specifying DataType"
   ]
  },
  {
   "cell_type": "code",
   "execution_count": 5,
   "id": "c5bf7739",
   "metadata": {},
   "outputs": [
    {
     "name": "stdout",
     "output_type": "stream",
     "text": [
      "<class 'numpy.ndarray'>\n",
      "[0 1 2 3]\n"
     ]
    }
   ],
   "source": [
    "data = np.arange(4, dtype = np.int64); print(type(data)); print(data)"
   ]
  },
  {
   "cell_type": "markdown",
   "id": "4814fe9a",
   "metadata": {},
   "source": [
    "## Adding, removing and sorting an array"
   ]
  },
  {
   "cell_type": "code",
   "execution_count": 6,
   "id": "abdafebc",
   "metadata": {},
   "outputs": [
    {
     "name": "stdout",
     "output_type": "stream",
     "text": [
      "unsorted array - [2 5 7 4 1 3 5]\n",
      "sorted array - [1 2 3 4 5 5 7]\n",
      "concatenating of two arrays - [1 2 3 4 5 6 7 8]\n",
      "concatenating of two arrays - [[1 2]\n",
      " [3 4]\n",
      " [5 6]]\n"
     ]
    }
   ],
   "source": [
    "#Sorting of an array:\n",
    "x = np.array([2,5,7,4,1,3,5]);print(\"unsorted array -\",x)\n",
    "print(\"sorted array -\",np.sort(x))\n",
    "\n",
    "#concatenate the two arrays:\n",
    "a = np.array([1,2,3,4])\n",
    "b = np.array([5,6,7,8])\n",
    "print(\"concatenating of two arrays -\", np.concatenate((a,b)))\n",
    "\n",
    "#concatenating of multiDimensional array's\n",
    "x = np.array([[1, 2], [3, 4]])\n",
    "y = np.array([[5, 6]])\n",
    "print(\"concatenating of two arrays -\", np.concatenate((x,y), axis=0))"
   ]
  },
  {
   "cell_type": "markdown",
   "id": "2fb7e623",
   "metadata": {},
   "source": [
    "## Shape and Size of an array\n",
    "\n",
    "ndarray.ndim will tell you the number of axes, or dimensions, of the array.\n",
    "\n",
    "ndarray.size will tell you the total number of elements of the array. This is the product of the elements of the array’s shape.\n",
    "\n",
    "ndarray.shape will display a tuple of integers that indicate the number of elements stored along each dimension of the array. If, for example, you have a 2-D array with 2 rows and 3 columns, the shape of your array is (2, 3)"
   ]
  },
  {
   "cell_type": "code",
   "execution_count": 7,
   "id": "dc059764",
   "metadata": {},
   "outputs": [
    {
     "name": "stdout",
     "output_type": "stream",
     "text": [
      "3\n",
      "24\n",
      "(3, 2, 4)\n"
     ]
    }
   ],
   "source": [
    "array_example = np.array([[[0, 1, 2, 3],\n",
    "                            [4, 5, 6, 7]],\n",
    "\n",
    "                           [[0, 1, 2, 3],\n",
    "                            [4, 5, 6, 7]],\n",
    "\n",
    "                           [[0 ,1 ,2, 3],\n",
    "                            [4, 5, 6, 7]]])\n",
    "\n",
    "# ndarray.ndim will tell you the number of axes, or dimensions, of the array.\n",
    "print(array_example.ndim)\n",
    "\n",
    "# ndarray.size will tell you the total number of elements of the array. This is the product of the elements of the array’s shape.\n",
    "print(array_example.size)\n",
    "\n",
    "#ndarray.shape\n",
    "print(array_example.shape)\n"
   ]
  },
  {
   "cell_type": "markdown",
   "id": "07dc6d30",
   "metadata": {},
   "source": [
    "## Reshape an Array"
   ]
  },
  {
   "cell_type": "code",
   "execution_count": 8,
   "id": "297f9e72",
   "metadata": {},
   "outputs": [
    {
     "name": "stdout",
     "output_type": "stream",
     "text": [
      "given array = [0 1 2 3 4 5]\n",
      "reshaped array = [[0 1]\n",
      " [2 3]\n",
      " [4 5]]\n"
     ]
    },
    {
     "data": {
      "text/plain": [
       "array([[0, 1, 2, 3, 4, 5]])"
      ]
     },
     "execution_count": 8,
     "metadata": {},
     "output_type": "execute_result"
    }
   ],
   "source": [
    "array = np.arange(6); print(\"given array =\", array)\n",
    "reshaped_array = array.reshape(3,2); print(\"reshaped array =\", reshaped_array)\n",
    "np.reshape(array, newshape=(1, 6), order='c')"
   ]
  },
  {
   "cell_type": "markdown",
   "id": "40893be6",
   "metadata": {},
   "source": [
    "## indexing and slicing"
   ]
  },
  {
   "cell_type": "code",
   "execution_count": 9,
   "id": "29b68a91",
   "metadata": {},
   "outputs": [
    {
     "name": "stdout",
     "output_type": "stream",
     "text": [
      "[1 2 3 4]\n",
      "[ 2  4  6  8 10 12]\n",
      "[[False False False False]\n",
      " [False  True  True  True]\n",
      " [ True  True  True  True]]\n",
      "[3 4 5 6 7]\n",
      "(array([0, 0, 0, 0]), array([0, 1, 2, 3]))\n",
      "(0, 0)\n",
      "(0, 1)\n",
      "(0, 2)\n",
      "(0, 3)\n"
     ]
    }
   ],
   "source": [
    "data = np.array([1, 2, 3]); data[0:2]\n",
    "a = np.array([[1 , 2, 3, 4], [5, 6, 7, 8], [9, 10, 11, 12]])\n",
    "print(a[a<5])# return values\n",
    "\n",
    "divisible_by_2 = a[a%2==0]\n",
    "print(divisible_by_2)\n",
    "\n",
    "five_up = (a>5)# return boolean\n",
    "print(five_up)\n",
    "\n",
    "c = a[(a>2) & (a<8)]\n",
    "print(c)\n",
    "\n",
    "b = np.nonzero(a < 5);print(b)\n",
    "\n",
    "# zip of an array\n",
    "ziping = list(zip(b[0], b[1]))\n",
    "\n",
    "for coord in ziping:\n",
    "    print(coord)"
   ]
  },
  {
   "cell_type": "markdown",
   "id": "f21b91a9",
   "metadata": {},
   "source": [
    "## create an array from existing array"
   ]
  },
  {
   "cell_type": "code",
   "execution_count": 10,
   "id": "9b1bfd50",
   "metadata": {},
   "outputs": [
    {
     "name": "stdout",
     "output_type": "stream",
     "text": [
      "[4 5 6 7 8]\n",
      "[[1 1]\n",
      " [2 2]\n",
      " [3 3]\n",
      " [4 4]]\n",
      "[[1 1 3 3]\n",
      " [2 2 4 4]]\n",
      "[[ 0  1  2  3  4  5]\n",
      " [ 6  7  8  9 10 11]\n",
      " [12 13 14 15 16 17]\n",
      " [18 19 20 21 22 23]]\n",
      "[array([[ 0,  1],\n",
      "       [ 6,  7],\n",
      "       [12, 13],\n",
      "       [18, 19]]), array([[ 2,  3],\n",
      "       [ 8,  9],\n",
      "       [14, 15],\n",
      "       [20, 21]]), array([[ 4,  5],\n",
      "       [10, 11],\n",
      "       [16, 17],\n",
      "       [22, 23]])]\n",
      "[5 6 7 8]\n",
      "[[ 1  2  3  4]\n",
      " [99  6  7  8]\n",
      " [ 9 10 11 12]]\n"
     ]
    }
   ],
   "source": [
    "a = np.array([1,  2,  3,  4,  5,  6,  7,  8,  9, 10])\n",
    "a2 = a[3:8]\n",
    "print(a2)\n",
    "\n",
    "# stack two existing arrays\n",
    "a1 = np.array([[1, 1],\n",
    "                [2, 2]])\n",
    "\n",
    "a2 = np.array([[3, 3],\n",
    "                [4, 4]])\n",
    "\n",
    "# Vertical stack\n",
    "print(np.vstack((a1,a2)))\n",
    "\n",
    "# Horizantal Stack\n",
    "\n",
    "print(np.hstack((a1,a2)))\n",
    "\n",
    "# You can split an array into several smaller arrays using hsplit. \n",
    "#You can specify either the number of equally shaped arrays to return or the columns after which the division should occur\n",
    "a3 = np.arange(24).reshape(4,6);print(a3)\n",
    "\n",
    "# Split into three equally shaped arrays\n",
    "a4 = np.hsplit(a3, 3);print(a4)\n",
    "\n",
    "#using views\n",
    "a = np.array([[1, 2, 3, 4], [5, 6, 7, 8], [9, 10, 11, 12]]);print(a[1,:])\n",
    "b = a[1,:]\n",
    "b[0] = 99\n",
    "print(a)"
   ]
  },
  {
   "cell_type": "markdown",
   "id": "d6ebf45f",
   "metadata": {},
   "source": [
    "## convert a 1D array into a 2D array (how to add a new axis to an array)"
   ]
  },
  {
   "cell_type": "code",
   "execution_count": 11,
   "id": "d2104e4d",
   "metadata": {},
   "outputs": [
    {
     "name": "stdout",
     "output_type": "stream",
     "text": [
      "[[1 2 3 4 5 6]]\n",
      "2\n",
      "3\n",
      "2\n",
      "[[1]\n",
      " [2]\n",
      " [3]\n",
      " [4]\n",
      " [5]\n",
      " [6]]\n",
      "2\n",
      "[[1 2 3 4 5 6]]\n"
     ]
    }
   ],
   "source": [
    "a = np.array([1,2,3,4,5,6])\n",
    "a.ndim\n",
    "\n",
    "# convert a 1D array to a row vector by inserting an axis along the first dimension:\n",
    "row_vector = a[np.newaxis,:]; print(row_vector); print(row_vector.ndim)\n",
    "\n",
    "column_vector = row_vector[:, np.newaxis]; print(column_vector.ndim)\n",
    "\n",
    "# You can use np.expand_dims to add an axis at index position 1 with:\n",
    "\n",
    "b = np.expand_dims(a, axis=1); print(b.ndim); print(b)\n",
    "c = np.expand_dims(a, axis=0); print(c.ndim); print(c)"
   ]
  },
  {
   "cell_type": "markdown",
   "id": "4e0924e5",
   "metadata": {},
   "source": [
    "## Creating Matrices"
   ]
  },
  {
   "cell_type": "code",
   "execution_count": 33,
   "id": "58b8ee70",
   "metadata": {},
   "outputs": [
    {
     "name": "stdout",
     "output_type": "stream",
     "text": [
      "[2 4 6]\n",
      "6\n",
      "1\n",
      "21\n",
      "[5 6]\n",
      "[2 4 6]\n"
     ]
    }
   ],
   "source": [
    "data = np.array([[1, 2], [3, 4], [5, 6]])\n",
    "print(data[0:3,1]);print(data.max()); print(data.min()); print(data.sum())\n",
    "\n",
    "print(data.max(axis=0)); print(data.max(axis=1))\n"
   ]
  },
  {
   "cell_type": "markdown",
   "id": "8d20719b",
   "metadata": {},
   "source": [
    "## Generating random numbers\n",
    "The use of random number generation is an important part of the configuration and evaluation of many numerical and machine learning algorithms. Whether you need to randomly initialize weights in an artificial neural network, split data into random sets, or randomly shuffle your dataset, being able to generate random numbers (actually, repeatable pseudo-random numbers) is essential."
   ]
  },
  {
   "cell_type": "code",
   "execution_count": 23,
   "id": "f1ef5a21",
   "metadata": {},
   "outputs": [
    {
     "name": "stdout",
     "output_type": "stream",
     "text": [
      "Generator(PCG64)\n",
      "[0.63696169 0.26978671 0.04097352]\n",
      "[[0 0 0 4]\n",
      " [3 4 2 3]]\n",
      "[[0.72949656 0.54362499]\n",
      " [0.93507242 0.81585355]\n",
      " [0.0027385  0.85740428]]\n"
     ]
    }
   ],
   "source": [
    "rng = np.random.default_rng(0);print(rng)\n",
    "print(rng.random(3))\n",
    "print(rng.integers(5, size=(2,4)))\n",
    "print(rng.random((3,2)))"
   ]
  },
  {
   "cell_type": "markdown",
   "id": "4dace2eb",
   "metadata": {},
   "source": [
    "## How to get unique items and counts"
   ]
  },
  {
   "cell_type": "code",
   "execution_count": 32,
   "id": "f5818dca",
   "metadata": {},
   "outputs": [
    {
     "name": "stdout",
     "output_type": "stream",
     "text": [
      "[0 1 2 3 4 5 6 7 8 9]\n",
      "(array([0, 1, 2, 3, 4, 5, 6, 7, 8, 9]), array([ 0,  1,  2,  3,  6,  7, 10,  8, 14, 15]))\n",
      "(array([0, 1, 2, 3, 4, 5, 6, 7, 8, 9]), array([3, 1, 2, 2, 2, 2, 2, 2, 1, 1]))\n",
      "[ 1  2  3  4  5  6  7  8  9 10 11 12]\n",
      "(array([[ 1,  2,  3,  4],\n",
      "       [ 5,  6,  7,  8],\n",
      "       [ 9, 10, 11, 12]]), array([0, 1, 2]), array([2, 1, 1]))\n",
      "[[ 1  2  3  4]\n",
      " [ 5  6  7  8]\n",
      " [ 9 10 11 12]\n",
      " [ 1  2  3  4]]\n"
     ]
    }
   ],
   "source": [
    "array = np.array([0,1,2,3,3,2,4,5,7,7,6,5,6,4,8,9,0,0])\n",
    "print(np.unique(array))\n",
    "\n",
    "# returns the unique values as an array and index of the unique values - array\n",
    "index_list = np.unique(array, return_index=True);print(index_list)\n",
    "occurance_count = np.unique(array, return_counts=True);print(occurance_count)\n",
    "\n",
    "# 2d arrays\n",
    "d = np.array([[1, 2, 3, 4], [5, 6, 7, 8], [9, 10, 11, 12], [1, 2, 3, 4]])\n",
    "print(np.unique(d))\n",
    "print(np.unique(d, axis=0, return_index=True, return_counts=True))\n",
    "print(np.unique(d, axis=1))"
   ]
  },
  {
   "cell_type": "markdown",
   "id": "b791453e",
   "metadata": {},
   "source": [
    "## Transposing and reshaping a matrix¶"
   ]
  },
  {
   "cell_type": "code",
   "execution_count": 53,
   "id": "99b624f2",
   "metadata": {},
   "outputs": [
    {
     "name": "stdout",
     "output_type": "stream",
     "text": [
      "[[1 2 3]\n",
      " [4 5 6]]\n",
      "[[1 2]\n",
      " [3 4]\n",
      " [5 6]]\n",
      "[[1 3 5]\n",
      " [2 4 6]]\n",
      "[[0 1]\n",
      " [2 3]\n",
      " [4 5]\n",
      " [6 7]]\n",
      "[[0 2 4 6]\n",
      " [1 3 5 7]]\n"
     ]
    }
   ],
   "source": [
    "print(data.reshape(2,3))\n",
    "print(data.reshape(3,2))\n",
    "print(data.transpose())\n",
    "\n",
    "array = np.arange(8).reshape(4,2);print(array)\n",
    "print(array.T)"
   ]
  },
  {
   "cell_type": "markdown",
   "id": "1a88543c",
   "metadata": {},
   "source": [
    "## How to reverse an array"
   ]
  },
  {
   "cell_type": "code",
   "execution_count": 64,
   "id": "fa20680c",
   "metadata": {},
   "outputs": [
    {
     "name": "stdout",
     "output_type": "stream",
     "text": [
      "[[5 6]\n",
      " [3 4]\n",
      " [1 2]]\n",
      "[[2 1]\n",
      " [4 3]\n",
      " [6 5]]\n",
      "[4 3]\n",
      "[[1 6]\n",
      " [3 4]\n",
      " [5 2]]\n"
     ]
    }
   ],
   "source": [
    "# np.flip()\n",
    "print(np.flip(data, axis=0))\n",
    "print(np.flip(data, axis=1))\n",
    "print(np.flip(data[1]))\n",
    "\n",
    "data[:,1] = np.flip(data[:,1])\n",
    "print(data)"
   ]
  },
  {
   "cell_type": "markdown",
   "id": "49eaf9b9",
   "metadata": {},
   "source": [
    "## Reshaping and flattening multidimensional arrays"
   ]
  },
  {
   "cell_type": "code",
   "execution_count": 70,
   "id": "41a281ff",
   "metadata": {},
   "outputs": [
    {
     "name": "stdout",
     "output_type": "stream",
     "text": [
      "[[ 1  2  3  4]\n",
      " [ 5  6  7  8]\n",
      " [ 9 10 11 12]]\n",
      "[ 1  2  3  4  5  6  7  8  9 10 11 12]\n",
      "[[ 1  2  3  4]\n",
      " [ 5  6  7  8]\n",
      " [ 9 10 11 12]]\n",
      "[98  2  3  4  5  6  7  8  9 10 11 12]\n",
      "[[100   2   3   4]\n",
      " [  5   6   7   8]\n",
      " [  9  10  11  12]]\n",
      "[100   2   3   4   5   6   7   8   9  10  11  12]\n"
     ]
    }
   ],
   "source": [
    "# .flatten() .ravel() - same as view\n",
    "\n",
    "x = np.array([[1 , 2, 3, 4], [5, 6, 7, 8], [9, 10, 11, 12]]); print(x)\n",
    "print(x.flatten())\n",
    "a = x.flatten()\n",
    "a[0] = 98\n",
    "print(x) # original\n",
    "print(a) # new array\n",
    "\n",
    "# .ravel()\n",
    "a1 = x.ravel()\n",
    "a1[0] = 100\n",
    "print(x) # original\n",
    "print(a1) # new array"
   ]
  }
 ],
 "metadata": {
  "kernelspec": {
   "display_name": "Python 3",
   "language": "python",
   "name": "python3"
  },
  "language_info": {
   "codemirror_mode": {
    "name": "ipython",
    "version": 3
   },
   "file_extension": ".py",
   "mimetype": "text/x-python",
   "name": "python",
   "nbconvert_exporter": "python",
   "pygments_lexer": "ipython3",
   "version": "3.9.4"
  }
 },
 "nbformat": 4,
 "nbformat_minor": 5
}
