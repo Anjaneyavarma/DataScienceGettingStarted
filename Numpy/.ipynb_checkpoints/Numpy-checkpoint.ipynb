{
 "cells": [
  {
   "cell_type": "markdown",
   "id": "d77a5d84",
   "metadata": {},
   "source": [
    "## Import numpy dependency"
   ]
  },
  {
   "cell_type": "code",
   "execution_count": 1,
   "id": "0feba9fa",
   "metadata": {},
   "outputs": [],
   "source": [
    "import numpy as np"
   ]
  },
  {
   "cell_type": "markdown",
   "id": "048b2709",
   "metadata": {},
   "source": [
    "## 1D Array"
   ]
  },
  {
   "cell_type": "code",
   "execution_count": 2,
   "id": "3d9b1bee",
   "metadata": {},
   "outputs": [
    {
     "data": {
      "text/plain": [
       "array([1, 2, 3, 4, 5])"
      ]
     },
     "execution_count": 2,
     "metadata": {},
     "output_type": "execute_result"
    }
   ],
   "source": [
    "a = np.array([1,2,3,4,5]); a"
   ]
  },
  {
   "cell_type": "markdown",
   "id": "a1f3b9fd",
   "metadata": {},
   "source": [
    "## MuiltiDimensional Array"
   ]
  },
  {
   "cell_type": "code",
   "execution_count": 3,
   "id": "e9f3dc3d",
   "metadata": {},
   "outputs": [
    {
     "data": {
      "text/plain": [
       "array([[ 1,  2,  3,  4],\n",
       "       [ 5,  6,  7,  8],\n",
       "       [ 9, 10, 11, 12]])"
      ]
     },
     "execution_count": 3,
     "metadata": {},
     "output_type": "execute_result"
    }
   ],
   "source": [
    "b = np.array([[1,2,3,4],\n",
    "             [5,6,7,8],\n",
    "             [9,10,11,12]]); b"
   ]
  },
  {
   "cell_type": "markdown",
   "id": "4e3434db",
   "metadata": {},
   "source": [
    "## Basic Array creation"
   ]
  },
  {
   "cell_type": "code",
   "execution_count": 4,
   "id": "adeac4d9",
   "metadata": {},
   "outputs": [
    {
     "name": "stdout",
     "output_type": "stream",
     "text": [
      "[0. 0.]\n",
      "[1. 1.]\n",
      "[-1.72723371e-077  2.00000015e+000  1.48219694e-323  0.00000000e+000]\n",
      "[0 1 2 3]\n",
      "[4 5 6 7]\n",
      "[ 1.  4.  7. 10.]\n"
     ]
    }
   ],
   "source": [
    "#create an array with zeros:\n",
    "c = np.zeros(2);print(c)\n",
    "\n",
    "#create an array with ones:\n",
    "d = np.ones(2); print(d)\n",
    "\n",
    "#create an empty array of 4:\n",
    "x = np.empty(4); print(x)\n",
    "\n",
    "#aranage of an array of length 4:\n",
    "y = np.arange(4);print(y)\n",
    "z = np.arange(4,8,1); print(z)\n",
    "\n",
    "#Using linspace\n",
    "p = np.linspace(1,10, num=4);print(p)"
   ]
  },
  {
   "cell_type": "markdown",
   "id": "1ea2b1fb",
   "metadata": {},
   "source": [
    "## Specifying DataType"
   ]
  },
  {
   "cell_type": "code",
   "execution_count": 5,
   "id": "c5bf7739",
   "metadata": {},
   "outputs": [
    {
     "name": "stdout",
     "output_type": "stream",
     "text": [
      "<class 'numpy.ndarray'>\n",
      "[0 1 2 3]\n"
     ]
    }
   ],
   "source": [
    "data = np.arange(4, dtype = np.int64); print(type(data)); print(data)"
   ]
  },
  {
   "cell_type": "markdown",
   "id": "4814fe9a",
   "metadata": {},
   "source": [
    "## Adding, removing and sorting an array"
   ]
  },
  {
   "cell_type": "code",
   "execution_count": 6,
   "id": "abdafebc",
   "metadata": {},
   "outputs": [
    {
     "name": "stdout",
     "output_type": "stream",
     "text": [
      "unsorted array - [2 5 7 4 1 3 5]\n",
      "sorted array - [1 2 3 4 5 5 7]\n",
      "concatenating of two arrays - [1 2 3 4 5 6 7 8]\n",
      "concatenating of two arrays - [[1 2]\n",
      " [3 4]\n",
      " [5 6]]\n"
     ]
    }
   ],
   "source": [
    "#Sorting of an array:\n",
    "x = np.array([2,5,7,4,1,3,5]);print(\"unsorted array -\",x)\n",
    "print(\"sorted array -\",np.sort(x))\n",
    "\n",
    "#concatenate the two arrays:\n",
    "a = np.array([1,2,3,4])\n",
    "b = np.array([5,6,7,8])\n",
    "print(\"concatenating of two arrays -\", np.concatenate((a,b)))\n",
    "\n",
    "#concatenating of multiDimensional array's\n",
    "x = np.array([[1, 2], [3, 4]])\n",
    "y = np.array([[5, 6]])\n",
    "print(\"concatenating of two arrays -\", np.concatenate((x,y), axis=0))"
   ]
  },
  {
   "cell_type": "markdown",
   "id": "2fb7e623",
   "metadata": {},
   "source": [
    "## Shape and Size of an array\n",
    "\n",
    "ndarray.ndim will tell you the number of axes, or dimensions, of the array.\n",
    "\n",
    "ndarray.size will tell you the total number of elements of the array. This is the product of the elements of the array’s shape.\n",
    "\n",
    "ndarray.shape will display a tuple of integers that indicate the number of elements stored along each dimension of the array. If, for example, you have a 2-D array with 2 rows and 3 columns, the shape of your array is (2, 3)"
   ]
  },
  {
   "cell_type": "code",
   "execution_count": 14,
   "id": "dc059764",
   "metadata": {},
   "outputs": [
    {
     "name": "stdout",
     "output_type": "stream",
     "text": [
      "3\n",
      "24\n",
      "(3, 2, 4)\n"
     ]
    }
   ],
   "source": [
    "array_example = np.array([[[0, 1, 2, 3],\n",
    "                            [4, 5, 6, 7]],\n",
    "\n",
    "                           [[0, 1, 2, 3],\n",
    "                            [4, 5, 6, 7]],\n",
    "\n",
    "                           [[0 ,1 ,2, 3],\n",
    "                            [4, 5, 6, 7]]])\n",
    "\n",
    "# ndarray.ndim will tell you the number of axes, or dimensions, of the array.\n",
    "print(array_example.ndim)\n",
    "\n",
    "# ndarray.size will tell you the total number of elements of the array. This is the product of the elements of the array’s shape.\n",
    "print(array_example.size)\n",
    "\n",
    "#ndarray.shape\n",
    "print(array_example.shape)\n"
   ]
  },
  {
   "cell_type": "markdown",
   "id": "07dc6d30",
   "metadata": {},
   "source": [
    "## Reshape an Array"
   ]
  },
  {
   "cell_type": "code",
   "execution_count": 36,
   "id": "297f9e72",
   "metadata": {},
   "outputs": [
    {
     "name": "stdout",
     "output_type": "stream",
     "text": [
      "given array = [0 1 2 3 4 5]\n",
      "reshaped array = [[0 1]\n",
      " [2 3]\n",
      " [4 5]]\n"
     ]
    },
    {
     "data": {
      "text/plain": [
       "array([[0, 1, 2, 3, 4, 5]])"
      ]
     },
     "execution_count": 36,
     "metadata": {},
     "output_type": "execute_result"
    }
   ],
   "source": [
    "array = np.arange(6); print(\"given array =\", array)\n",
    "reshaped_array = array.reshape(3,2); print(\"reshaped array =\", reshaped_array)\n",
    "np.reshape(array, newshape=(1, 6), order='c')"
   ]
  },
  {
   "cell_type": "markdown",
   "id": "40893be6",
   "metadata": {},
   "source": [
    "## indexing and slicing"
   ]
  },
  {
   "cell_type": "code",
   "execution_count": 47,
   "id": "29b68a91",
   "metadata": {},
   "outputs": [
    {
     "name": "stdout",
     "output_type": "stream",
     "text": [
      "[1 2 3 4]\n",
      "[ 2  4  6  8 10 12]\n",
      "[[False False False False]\n",
      " [False  True  True  True]\n",
      " [ True  True  True  True]]\n",
      "[3 4 5 6 7]\n",
      "(array([0, 0, 0, 0]), array([0, 1, 2, 3]))\n",
      "(0, 0)\n",
      "(0, 1)\n",
      "(0, 2)\n",
      "(0, 3)\n"
     ]
    }
   ],
   "source": [
    "data = np.array([1, 2, 3]); data[0:2]\n",
    "a = np.array([[1 , 2, 3, 4], [5, 6, 7, 8], [9, 10, 11, 12]])\n",
    "print(a[a<5])# return values\n",
    "\n",
    "divisible_by_2 = a[a%2==0]\n",
    "print(divisible_by_2)\n",
    "\n",
    "five_up = (a>5)# return boolean\n",
    "print(five_up)\n",
    "\n",
    "c = a[(a>2) & (a<8)]\n",
    "print(c)\n",
    "\n",
    "b = np.nonzero(a < 5);print(b)\n",
    "\n",
    "# zip of an array\n",
    "ziping = list(zip(b[0], b[1]))\n",
    "\n",
    "for coord in ziping:\n",
    "    print(coord)"
   ]
  },
  {
   "cell_type": "markdown",
   "id": "f21b91a9",
   "metadata": {},
   "source": [
    "## create an array from existing array"
   ]
  },
  {
   "cell_type": "code",
   "execution_count": 51,
   "id": "9b1bfd50",
   "metadata": {},
   "outputs": [
    {
     "name": "stdout",
     "output_type": "stream",
     "text": [
      "[4 5 6 7 8]\n",
      "[[1 1]\n",
      " [2 2]\n",
      " [3 3]\n",
      " [4 4]]\n",
      "[[1 1 3 3]\n",
      " [2 2 4 4]]\n"
     ]
    }
   ],
   "source": [
    "a = np.array([1,  2,  3,  4,  5,  6,  7,  8,  9, 10])\n",
    "a2 = a[3:8]\n",
    "print(a2)\n",
    "\n",
    "# stack two existing arrays\n",
    "a1 = np.array([[1, 1],\n",
    "                [2, 2]])\n",
    "\n",
    "a2 = np.array([[3, 3],\n",
    "                [4, 4]])\n",
    "\n",
    "# Vertical stack\n",
    "print(np.vstack((a1,a2)))\n",
    "\n",
    "# Horizantal Stack\n",
    "\n",
    "print(np.hstack((a1,a2)))"
   ]
  },
  {
   "cell_type": "code",
   "execution_count": null,
   "id": "6d3a5347",
   "metadata": {},
   "outputs": [],
   "source": []
  }
 ],
 "metadata": {
  "kernelspec": {
   "display_name": "Python 3",
   "language": "python",
   "name": "python3"
  },
  "language_info": {
   "codemirror_mode": {
    "name": "ipython",
    "version": 3
   },
   "file_extension": ".py",
   "mimetype": "text/x-python",
   "name": "python",
   "nbconvert_exporter": "python",
   "pygments_lexer": "ipython3",
   "version": "3.9.4"
  }
 },
 "nbformat": 4,
 "nbformat_minor": 5
}
