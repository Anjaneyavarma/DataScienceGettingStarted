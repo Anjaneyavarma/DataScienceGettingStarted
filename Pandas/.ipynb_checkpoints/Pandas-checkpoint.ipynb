{
 "cells": [
  {
   "cell_type": "markdown",
   "id": "3da6ac62",
   "metadata": {},
   "source": [
    "## import Pandas library"
   ]
  },
  {
   "cell_type": "code",
   "execution_count": 1,
   "id": "9ac4b0a5",
   "metadata": {},
   "outputs": [],
   "source": [
    "import pandas as pd"
   ]
  },
  {
   "cell_type": "markdown",
   "id": "8202f235",
   "metadata": {},
   "source": [
    "## Creating, Reading, Writing"
   ]
  },
  {
   "cell_type": "code",
   "execution_count": null,
   "id": "e4cae30d",
   "metadata": {},
   "outputs": [],
   "source": [
    "# Dataframe\n",
    "\n",
    "df = pd.DataFrame({''})"
   ]
  }
 ],
 "metadata": {
  "kernelspec": {
   "display_name": "Python 3",
   "language": "python",
   "name": "python3"
  },
  "language_info": {
   "codemirror_mode": {
    "name": "ipython",
    "version": 3
   },
   "file_extension": ".py",
   "mimetype": "text/x-python",
   "name": "python",
   "nbconvert_exporter": "python",
   "pygments_lexer": "ipython3",
   "version": "3.9.4"
  }
 },
 "nbformat": 4,
 "nbformat_minor": 5
}
